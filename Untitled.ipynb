{
 "cells": [
  {
   "cell_type": "code",
   "execution_count": 2,
   "metadata": {
    "collapsed": true
   },
   "outputs": [],
   "source": [
    "import glob"
   ]
  },
  {
   "cell_type": "code",
   "execution_count": 3,
   "metadata": {
    "collapsed": true
   },
   "outputs": [],
   "source": [
    "def read_train(directory):\n",
    "    files = glob.glob('trainfiles/{}/*.*'.format(directory))\n",
    "    trainers = []\n",
    "    for file in files:\n",
    "        with open(file) as f:\n",
    "            trainers.append(f.read())\n",
    "    return trainers"
   ]
  },
  {
   "cell_type": "code",
   "execution_count": 4,
   "metadata": {
    "collapsed": false
   },
   "outputs": [
    {
     "data": {
      "text/plain": [
       "['trainfiles/binarytrees.clojure',\n",
       " 'trainfiles/binarytrees.gcc',\n",
       " 'trainfiles/binarytrees.ghc',\n",
       " 'trainfiles/binarytrees.hack',\n",
       " 'trainfiles/binarytrees.java',\n",
       " 'trainfiles/binarytrees.javascript',\n",
       " 'trainfiles/binarytrees.jruby',\n",
       " 'trainfiles/binarytrees.ocaml',\n",
       " 'trainfiles/binarytrees.ocaml-2.ocaml',\n",
       " 'trainfiles/binarytrees.perl',\n",
       " 'trainfiles/binarytrees.perl-3.perl',\n",
       " 'trainfiles/binarytrees.php',\n",
       " 'trainfiles/binarytrees.python3-6.python3',\n",
       " 'trainfiles/binarytrees.racket',\n",
       " 'trainfiles/binarytrees.sbcl',\n",
       " 'trainfiles/binarytrees.scala',\n",
       " 'trainfiles/binarytrees.yarv']"
      ]
     },
     "execution_count": 4,
     "metadata": {},
     "output_type": "execute_result"
    }
   ],
   "source": [
    "glob.glob('trainfiles/*.*')"
   ]
  },
  {
   "cell_type": "code",
   "execution_count": null,
   "metadata": {
    "collapsed": true
   },
   "outputs": [],
   "source": []
  }
 ],
 "metadata": {
  "kernelspec": {
   "display_name": "Python 3",
   "language": "python",
   "name": "python3"
  },
  "language_info": {
   "codemirror_mode": {
    "name": "ipython",
    "version": 3
   },
   "file_extension": ".py",
   "mimetype": "text/x-python",
   "name": "python",
   "nbconvert_exporter": "python",
   "pygments_lexer": "ipython3",
   "version": "3.4.3"
  }
 },
 "nbformat": 4,
 "nbformat_minor": 0
}
